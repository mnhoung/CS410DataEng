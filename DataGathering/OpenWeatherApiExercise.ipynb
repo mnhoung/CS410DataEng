{
  "cells": [
    {
      "cell_type": "code",
      "execution_count": null,
      "metadata": {
        "colab": {
          "base_uri": "https://localhost:8080/"
        },
        "id": "3owPQ7V4U2RC",
        "outputId": "a67fc9cd-8688-495a-ac1e-bed652ba8864"
      },
      "outputs": [
        {
          "name": "stdout",
          "output_type": "stream",
          "text": [
            "Enter city name : Portland, Oregon\n",
            "Is it forecasted to be raining in Portland within the next three days?\n",
            "2025-04-10 21:00:00 Clouds\n",
            "2025-04-11 00:00:00 Rain\n",
            "2025-04-11 03:00:00 Rain\n",
            "2025-04-11 06:00:00 Rain\n",
            "2025-04-11 09:00:00 Rain\n",
            "2025-04-11 12:00:00 Rain\n",
            "2025-04-11 15:00:00 Clouds\n",
            "2025-04-11 18:00:00 Clouds\n",
            "2025-04-11 21:00:00 Clouds\n",
            "2025-04-12 00:00:00 Clouds\n",
            "2025-04-12 03:00:00 Clouds\n",
            "2025-04-12 06:00:00 Clouds\n",
            "2025-04-12 09:00:00 Clouds\n",
            "2025-04-12 12:00:00 Clouds\n",
            "2025-04-12 15:00:00 Clouds\n",
            "2025-04-12 18:00:00 Clouds\n",
            "2025-04-12 21:00:00 Rain\n",
            "2025-04-13 00:00:00 Clouds\n",
            "2025-04-13 03:00:00 Clouds\n",
            "2025-04-13 06:00:00 Clouds\n",
            "2025-04-13 09:00:00 Clear\n",
            "2025-04-13 12:00:00 Clear\n",
            "2025-04-13 15:00:00 Clouds\n",
            "2025-04-13 18:00:00 Clouds\n",
            "2025-04-13 21:00:00 Clouds\n",
            "2025-04-14 00:00:00 Clouds\n",
            "2025-04-14 03:00:00 Clouds\n",
            "2025-04-14 06:00:00 Clouds\n",
            "2025-04-14 09:00:00 Clouds\n",
            "2025-04-14 12:00:00 Clouds\n",
            "2025-04-14 15:00:00 Clouds\n",
            "2025-04-14 18:00:00 Clouds\n",
            "2025-04-14 21:00:00 Clouds\n",
            "2025-04-15 00:00:00 Clouds\n",
            "2025-04-15 03:00:00 Clouds\n",
            "2025-04-15 06:00:00 Clouds\n",
            "2025-04-15 09:00:00 Clouds\n",
            "2025-04-15 12:00:00 Clouds\n",
            "2025-04-15 15:00:00 Clouds\n",
            "2025-04-15 18:00:00 Clouds\n",
            "It is forecasted to rain within the next 3 days\n"
          ]
        }
      ],
      "source": [
        "# import required modules\n",
        "import requests, json\n",
        "\n",
        "# Enter your API key here\n",
        "api_key = \"APIKEYHERE\"\n",
        "\n",
        "# base_url variable to store url\n",
        "base_url = \"http://api.openweathermap.org/data/2.5/forecast?\"\n",
        "\n",
        "# Give city name\n",
        "city_name = input(\"Enter city name : \")\n",
        "\n",
        "# complete_url variable to store\n",
        "# complete url address\n",
        "complete_url = base_url + \"appid=\" + api_key + \"&q=\" + city_name\n",
        "\n",
        "# get method of requests module\n",
        "# return response object\n",
        "response = requests.get(complete_url)\n",
        "\n",
        "# json method of response object\n",
        "# convert json format data into\n",
        "# python format data\n",
        "x = response.json()\n",
        "# print(x)\n",
        "# print(x[\"list\"])\n",
        "# Now x contains list of nested dictionaries\n",
        "# Check the value of \"cod\" key is equal to\n",
        "# \"404\", means city is found otherwise,\n",
        "# city is not found\n",
        "\n",
        "rain = False\n",
        "\n",
        "if x[\"cod\"] != \"404\":\n",
        "  y = x[\"list\"]\n",
        "  print(\"Is it forecasted to be raining in Portland within the next three days?\")\n",
        "  for day in y:\n",
        "    dt_txt = day['dt_txt']\n",
        "    weather = day['weather']\n",
        "    forecast = weather[0]['main']\n",
        "    if 'rain' in weather[0]['main'].lower():\n",
        "      print(dt_txt, forecast)\n",
        "      rain = True\n",
        "  if rain == True:\n",
        "    print(\"It is forecasted to rain within the next 3 days\")\n",
        "  else:\n",
        "    print(\"No, it is not forecasted to rain within the next 3 days\")\n",
        "else:\n",
        "\tprint(\" City Not Found \")"
      ]
    },
    {
      "cell_type": "code",
      "execution_count": 12,
      "metadata": {
        "colab": {
          "base_uri": "https://localhost:8080/"
        },
        "id": "BY-0Jcrcc-OR",
        "outputId": "9876ef5f-a0b7-466b-eaf4-7b8b00a0fe64"
      },
      "outputs": [
        {
          "name": "stdout",
          "output_type": "stream",
          "text": [
            "Enter city name : Portland, Oregon\n",
            "Weather: broken clouds\n",
            "No, it is not raining\n"
          ]
        }
      ],
      "source": [
        "# base_url variable to store url\n",
        "base_url = \"http://api.openweathermap.org/data/2.5/weather?\"\n",
        "\n",
        "# Give city name\n",
        "city_name = input(\"Enter city name : \")\n",
        "\n",
        "# complete_url variable to store\n",
        "# complete url address\n",
        "complete_url = base_url + \"appid=\" + api_key + \"&q=\" + city_name\n",
        "\n",
        "# get method of requests module\n",
        "# return response object\n",
        "response = requests.get(complete_url)\n",
        "\n",
        "# json method of response object\n",
        "# convert json format data into\n",
        "# python format data\n",
        "x = response.json()\n",
        "\n",
        "# Now x contains list of nested dictionaries\n",
        "# Check the value of \"cod\" key is equal to\n",
        "# \"404\", means city is found otherwise,\n",
        "# city is not found\n",
        "if x[\"cod\"] != \"404\":\n",
        "\n",
        "  # store the value of \"main\"\n",
        "  # key in variable y\n",
        "  y = x[\"main\"]\n",
        "\n",
        "  # store the value of \"weather\"\n",
        "  # key in variable z\n",
        "  z = x[\"weather\"]\n",
        "\n",
        "  # store the value corresponding\n",
        "  # to the \"description\" key at\n",
        "  # the 0th index of z\n",
        "  weather_description = z[0][\"description\"]\n",
        "  print(\"Weather: \"+ weather_description)\n",
        "\n",
        "  if 'rain' in weather_description.lower():\n",
        "    print(\"It is raining\")\n",
        "  else:\n",
        "    print(\"No, it is not raining\")\n",
        "\n",
        "else:\n",
        "\tprint(\" City Not Found \")"
      ]
    }
  ],
  "metadata": {
    "colab": {
      "provenance": []
    },
    "kernelspec": {
      "display_name": "Python 3",
      "name": "python3"
    },
    "language_info": {
      "name": "python"
    }
  },
  "nbformat": 4,
  "nbformat_minor": 0
}
